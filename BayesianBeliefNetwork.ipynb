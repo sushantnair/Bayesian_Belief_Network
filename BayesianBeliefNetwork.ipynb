{
  "nbformat": 4,
  "nbformat_minor": 0,
  "metadata": {
    "colab": {
      "provenance": [],
      "authorship_tag": "ABX9TyNiK2II+nZ9btJOcAAUQqx+",
      "include_colab_link": true
    },
    "kernelspec": {
      "name": "python3",
      "display_name": "Python 3"
    },
    "language_info": {
      "name": "python"
    }
  },
  "cells": [
    {
      "cell_type": "markdown",
      "metadata": {
        "id": "view-in-github",
        "colab_type": "text"
      },
      "source": [
        "<a href=\"https://colab.research.google.com/github/sushantnair/Bayesian_Belief_Network/blob/main/BayesianBeliefNetwork.ipynb\" target=\"_parent\"><img src=\"https://colab.research.google.com/assets/colab-badge.svg\" alt=\"Open In Colab\"/></a>"
      ]
    },
    {
      "cell_type": "code",
      "execution_count": null,
      "metadata": {
        "id": "dyZubIj7Bm63"
      },
      "outputs": [],
      "source": [
        "nodes = {\n",
        "    \"Alarm\": [['B', 'E', 'P(A|B,E)'], ['T', 'T', '0.95    '], ['T', 'F', '0.94    '], ['F', 'T', '0.29    '], ['F', 'F', '0.001   ']],\n",
        "    \"Burglar\": [['B', 'P(B) '], ['T', 0.001], ['F', 0.999]],\n",
        "    \"Earthquake\": [['E', 'P(E) '], ['T', 0.002], ['F', 0.998]],\n",
        "    \"John\": [['A', 'P(J|A)'], ['T', '0.90  '], ['F', '0.05  ']],\n",
        "    \"Mary\": [['A', 'P(M|A)'], ['T', '0.70  '], ['F', '0.01  ']]\n",
        "}"
      ]
    },
    {
      "cell_type": "code",
      "source": [
        "print('We are going to demonstrate Bayesian Belief Network using the Burglar Alarm Example')\n",
        "for node, table in nodes.items():\n",
        "    print(f'The following information is available about the {node} node.')\n",
        "    for row in table:\n",
        "        print('|', end = ' ')\n",
        "        for value in row:\n",
        "            print(value, end=' | ')\n",
        "        print()"
      ],
      "metadata": {
        "id": "jLN3SFKBCKn6"
      },
      "execution_count": null,
      "outputs": []
    },
    {
      "cell_type": "code",
      "source": [
        "# keep taking Problem Statement as input until the condition is satisfied\n",
        "cont = True\n",
        "# keywords list\n",
        "primkeywlist = ['Alarm', 'Burglar', 'Earthquake', 'John', 'Mary']\n",
        "seckeywlist = ['yes', 'no']\n",
        "print(f'The Problem Statement should contain these keywords in order for the program to interpret the question correctly:\\n{primkeywlist}')\n",
        "\n",
        "while(cont == True):\n",
        "    probstat = input('Enter the probability you want to calculate: ')\n",
        "    # probstat = \"What is the probability that yes Alarm has sounded but no Burglar no Earthquake has occurred and yes John and yes Mary call?\"\n",
        "    # problem statement\n",
        "    #probstat = \"What is the Probability that Call?\"\n",
        "    # words in problem statement\n",
        "    prswords = probstat.split()\n",
        "    # keywords in the problem statement, based on which what probability is to be calculated can be ascertained.\n",
        "    keywords = list()\n",
        "    for word in prswords:\n",
        "        if word in primkeywlist:\n",
        "            keywords.append(word)\n",
        "    if len(keywords) < 1:\n",
        "        print('At least one keyword is required to proceed.\\nPlease try again.')\n",
        "    else:\n",
        "        print(f'Keywords found from Problem Statement: {keywords}')\n",
        "        cont = False"
      ],
      "metadata": {
        "id": "nYp-0GrGERO4",
        "colab": {
          "base_uri": "https://localhost:8080/"
        },
        "outputId": "3ab13548-3f3f-450c-e537-dd4aa9377d7a"
      },
      "execution_count": null,
      "outputs": [
        {
          "output_type": "stream",
          "name": "stdout",
          "text": [
            "The Problem Statement should contain these keywords in order for the program to interpret the question correctly:\n",
            "['Alarm', 'Burglar', 'Earthquake', 'John', 'Mary']\n",
            "Enter the probability you want to calculate: no Burglar yes Earthquake no Alarm yes John\n",
            "Keywords found from Problem Statement: ['Burglar', 'Earthquake', 'Alarm', 'John']\n"
          ]
        }
      ]
    },
    {
      "cell_type": "code",
      "source": [
        "# @title Approach 1\n",
        "prswords = probstat.split()\n",
        "valuslst = list()\n",
        "prev_word = None\n",
        "pctruthval = 'T'\n",
        "for word in prswords:\n",
        "    if prev_word is not None:\n",
        "        if (word == \"not\" or word == \"nor\") and prev_word in keywords:\n",
        "            ebatruthval = 'F'\n",
        "            print(ebatruthval, prev_word, word)\n",
        "    try:\n",
        "        values = nodes[f'{word}']\n",
        "        print(values)\n",
        "        for value in values:\n",
        "            if len(value) > 2:\n",
        "                if value[0] == ebatruthval and value[1] == ebatruthval:\n",
        "                    print(ebatruthval)\n",
        "                    valuslst.append(value)\n",
        "            elif len(value) == 2:\n",
        "                if value[0] == pctruthval:\n",
        "                    valuslst.append(value)\n",
        "            else:\n",
        "                if type(value[0]) == float:\n",
        "                    print(value[0])\n",
        "                    if ebatruthval == 'F':\n",
        "                        print('ek')\n",
        "                        newval = 1 - value[0]\n",
        "                    else:\n",
        "                        newval = value[0]\n",
        "                print(newval)\n",
        "    except:\n",
        "        continue\n",
        "    prev_word = word\n",
        "print(valuslst)"
      ],
      "metadata": {
        "id": "TmLWNgqnStTn",
        "cellView": "form"
      },
      "execution_count": null,
      "outputs": []
    },
    {
      "cell_type": "code",
      "source": [
        "# @title Approach 2\n",
        "prswords = probstat.split()\n",
        "valuslst = list()\n",
        "prev_word = None\n",
        "for word in prswords:\n",
        "    if prev_word is not None:\n",
        "        if (word == \"not\" or word == \"nor\") and prev_word in keywords:\n",
        "            truthval = 'F'\n",
        "            storetv = truthval\n",
        "            print(truthval, prev_word, word)\n",
        "        else:\n",
        "            truthval = 'T'\n",
        "    try:\n",
        "        values = nodes[f'{word}']\n",
        "        print(values)\n",
        "        for value in values:\n",
        "            if len(value) > 2:\n",
        "                if value[0] == truthval and value[1] == truthval:\n",
        "                    valuslst.append(value)\n",
        "            elif len(value) == 2:\n",
        "                if value[0] == truthval:\n",
        "                    valuslst.append(value)\n",
        "            else:\n",
        "                print(value[0], truthval)\n",
        "                if type(value[0]) == float:\n",
        "                   print()\n",
        "    except:\n",
        "        continue\n",
        "    prev_word = word\n",
        "print(valuslst)"
      ],
      "metadata": {
        "id": "9z9GFWtx1BL0",
        "cellView": "form"
      },
      "execution_count": null,
      "outputs": []
    },
    {
      "cell_type": "code",
      "source": [
        "# @title Final Approach\n",
        "def get_values_from_problem_statement(probstat):\n",
        "    pswords = probstat.split()\n",
        "    pkwskwp = list()\n",
        "    valulst = list()\n",
        "    # List of primary key word - secondary key word pairs\n",
        "    for i in range(0, len(pswords)):\n",
        "        if pswords[i] in primkeywlist:\n",
        "            if pswords[i-1] in seckeywlist:\n",
        "                print(pswords[i], pswords[i-1])\n",
        "                if pswords[i-1] == \"yes\":\n",
        "                    truthval = 'T'\n",
        "                    if pswords[i] == \"Burglar\":\n",
        "                        burgtval = 'T'\n",
        "                    if pswords[i] == \"Earthquake\":\n",
        "                        earttval = 'T'\n",
        "                elif pswords[i-1] == \"no\":\n",
        "                    truthval = 'F'\n",
        "                    if pswords[i] == \"Burglar\":\n",
        "                        burgtval = 'F'\n",
        "                    if pswords[i] == \"Earthquake\":\n",
        "                        earttval = 'F'\n",
        "                values = nodes[f'{pswords[i]}']\n",
        "                for value in values:\n",
        "                    if pswords[i] == \"Alarm\":\n",
        "                        if value[0] == burgtval and value[1] == earttval and truthval == 'Y':\n",
        "                            print(value)\n",
        "                            valulst.append(float(value[2]))\n",
        "                    else:\n",
        "                        if value[0] == truthval:\n",
        "                            print(value)\n",
        "                            valulst.append(float(value[1]))\n",
        "    return valulst\n",
        "\n",
        "valulst = get_values_from_problem_statement(probstat)\n",
        "print(valulst)\n",
        "\n"
      ],
      "metadata": {
        "colab": {
          "base_uri": "https://localhost:8080/"
        },
        "id": "1uMQcOwBGI-f",
        "outputId": "8a6afefd-c771-4753-8551-78ff3bb7f27e"
      },
      "execution_count": null,
      "outputs": [
        {
          "output_type": "stream",
          "name": "stdout",
          "text": [
            "Burglar no\n",
            "['F', 0.999]\n",
            "Earthquake yes\n",
            "['T', 0.002]\n",
            "Alarm no\n",
            "John yes\n",
            "['T', '0.90  ']\n",
            "[0.999, 0.002, 0.9]\n"
          ]
        }
      ]
    },
    {
      "cell_type": "code",
      "source": [
        "calc_prob = 1\n",
        "for value in valulst:\n",
        "    calc_prob = calc_prob * value\n",
        "print(f'Required Probability: {calc_prob:.6f}')"
      ],
      "metadata": {
        "colab": {
          "base_uri": "https://localhost:8080/"
        },
        "id": "1oPIOYVuWX-N",
        "outputId": "00c8b6d9-2632-4788-dbdf-1d88aca77d7e"
      },
      "execution_count": null,
      "outputs": [
        {
          "output_type": "stream",
          "name": "stdout",
          "text": [
            "Required Probability: 0.001798\n"
          ]
        }
      ]
    }
  ]
}